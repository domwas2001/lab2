{
 "cells": [
  {
   "cell_type": "markdown",
   "id": "b7c2acc3-e78f-4a6c-8447-db245a8da285",
   "metadata": {},
   "source": [
    "# **Tworzenie API we Flasku – Wprowadzenie**\n",
    "\n",
    "W tym ćwiczeniu nauczysz się, jak stworzyć proste API w Flasku, uruchomić je, wysyłać do niego zapytania oraz wykorzystać model decyzyjny w oparciu o podstawową regułę logiczną.\n",
    "\n",
    "## **1️⃣ Tworzenie podstawowego API**\n",
    "Najpierw utworzymy podstawową aplikację Flask.\n",
    "\n",
    "### **Zapisanie kodu API do pliku**\n",
    "W Jupyter Notebooku użyj magicznej komendy `%%file`, aby zapisać kod podstawowej aplikacji flask do pliku `app.py`: Kod znajdziesz na [cw1](https://sebkaz-teaching.github.io/RTA_2025/cw1.html)\n",
    "Jako tekst do wyświetlenie strony głównej użyj `Witaj w moim API!`."
   ]
  },
  {
   "cell_type": "code",
   "execution_count": 1,
   "id": "14c37263-583c-4c57-9454-7d1d93269999",
   "metadata": {},
   "outputs": [
    {
     "name": "stdout",
     "output_type": "stream",
     "text": [
      "Overwriting app.py\n"
     ]
    }
   ],
   "source": [
    "%%file app.py\n",
    "from flask import Flask, jsonify\n",
    "\n",
    "app = Flask(__name__)\n",
    "\n",
    "@app.route('/')\n",
    "def home():\n",
    "    return jsonify({\"message\": \"Hello, World!\"})\n",
    "\n",
    "if __name__ == '__main__':\n",
    "    app.run(host='0.0.0.0', port=5000)"
   ]
  },
  {
   "cell_type": "markdown",
   "id": "e2af6c95-3ee1-41c3-8781-50e1b80f2f17",
   "metadata": {},
   "source": [
    "Teraz uruchom API w terminalu, wpisując:\n",
    "```sh\n",
    "python app.py\n",
    "```\n",
    "Flask uruchomi serwer lokalnie pod adresem `http://127.0.0.1:5000/`."
   ]
  },
  {
   "cell_type": "markdown",
   "id": "b6dbfd19-a621-45bc-aadf-5cd9a71e6eaf",
   "metadata": {},
   "source": [
    "### **Sprawdzenie działania API**\n",
    "W Jupyter Notebooku wykonaj zapytanie GET do strony głównej. Na podstawie pola `status_code` napisz wyrażenie warunkowe które dla status_code 200 wyświetli zawartość odpowiedzi (z pola `content`)."
   ]
  },
  {
   "cell_type": "code",
   "execution_count": 2,
   "id": "f292293f-29e8-488e-b681-91eef946a0c6",
   "metadata": {},
   "outputs": [
    {
     "name": "stdout",
     "output_type": "stream",
     "text": [
      "{\"message\":\"Hello, World!\"}\n",
      "\n"
     ]
    }
   ],
   "source": [
    "import requests\n",
    "#response = pass TWOJ KOD\n",
    "\n",
    "adres_url = \"http://127.0.0.1:5000/\"\n",
    "response = requests.get(adres_url)\n",
    "\n",
    "if response.status_code == 200:\n",
    "    print(response.content.decode())\n",
    "else: \n",
    "    print(\"Pobranie content się nie udało, status code: \", response.status_code)"
   ]
  },
  {
   "cell_type": "markdown",
   "id": "90f91405-edaf-458c-96b3-1e03c5b6c56b",
   "metadata": {},
   "source": [
    "Jeśli wszystko działa poprawnie, zobaczysz komunikat `Witaj w moim API!`.\n",
    "---\n",
    "\n",
    "## **2️⃣ Dodanie nowej podstrony**\n",
    "Dodajmy nową podstronę `mojastrona`, która zwróci komunikat `To jest moja strona!`."
   ]
  },
  {
   "cell_type": "code",
   "execution_count": 7,
   "id": "901da667-f30f-4520-88e2-981c3cd07845",
   "metadata": {},
   "outputs": [
    {
     "name": "stdout",
     "output_type": "stream",
     "text": [
      "Overwriting app.py\n"
     ]
    }
   ],
   "source": [
    "%%file app.py\n",
    "\n",
    "from flask import Flask\n",
    "\n",
    "app = Flask(__name__)\n",
    "\n",
    "@app.route('/')\n",
    "def main_page():\n",
    "    return \"Witaj w moim API!\"\n",
    "\n",
    "@app.route('/mojastrona')\n",
    "def my_page():\n",
    "    return \"To jest moja strona!\"\n",
    "\n",
    "if __name__ == '__main__':\n",
    "    app.run(host='0.0.0.0', port=5000)"
   ]
  },
  {
   "cell_type": "markdown",
   "id": "e7bb7b21-a725-4de8-b154-2f1484bc97f5",
   "metadata": {},
   "source": [
    "Ponownie uruchom API i wykonaj zapytanie do strony `\"http://127.0.0.1:5000/mojastrona\"`:"
   ]
  },
  {
   "cell_type": "code",
   "execution_count": 8,
   "id": "c3ceade1-8619-4684-ac7c-a1b91bd0e871",
   "metadata": {},
   "outputs": [
    {
     "name": "stdout",
     "output_type": "stream",
     "text": [
      "To jest moja strona!\n"
     ]
    }
   ],
   "source": [
    "#response = pass \n",
    "import requests\n",
    "\n",
    "adres_url = \"http://127.0.0.1:5000/mojastrona\"\n",
    "response = requests.get(adres_url)\n",
    "\n",
    "if response.status_code == 200:\n",
    "    print(response.content.decode())\n",
    "else: \n",
    "    print(\"Pobieranie się nie udało, status code: \", response.status_code)"
   ]
  },
  {
   "cell_type": "markdown",
   "id": "a13f3e1e-1689-4e19-9984-54e6e8602b67",
   "metadata": {},
   "source": [
    "Powinieneś zobaczyć: `To jest moja strona!`\n",
    "\n",
    "---\n",
    "\n",
    "## **3️⃣ Automatyczne uruchamianie serwera z Jupyter Notebook**\n",
    "Zamknij wcześniej uruchomiony serwer (`Ctrl+C` w terminalu) i uruchom go ponownie bezpośrednio z Jupyter Notebook, korzystając z `subprocess.Popen`:"
   ]
  },
  {
   "cell_type": "code",
   "execution_count": 9,
   "id": "b5aef41b-f747-4949-a676-a8b49de88c7f",
   "metadata": {},
   "outputs": [],
   "source": [
    "import subprocess\n",
    "p = subprocess.Popen([\"python\", \"app.py\"])\n",
    "#server = pass"
   ]
  },
  {
   "cell_type": "markdown",
   "id": "6507101d-4f43-483a-a43d-2c07a3a9d23a",
   "metadata": {},
   "source": [
    "Po testach zamknij serwer wykorzystując metodę `kill`:\n"
   ]
  },
  {
   "cell_type": "code",
   "execution_count": 10,
   "id": "74fdcc71-fbcb-4602-804b-92458fab18df",
   "metadata": {},
   "outputs": [],
   "source": [
    "p.kill()"
   ]
  },
  {
   "cell_type": "markdown",
   "id": "6a02adf4-8ac0-4e3c-b1ee-0a9e1cc8933f",
   "metadata": {},
   "source": [
    "---\n",
    "\n",
    "## **4️⃣ Obsługa parametrów w adresie URL**\n",
    "Dodajemy nową podstronę `/hello`, która będzie przyjmować parametr `name`.\n",
    "\n",
    "Edytuj `app.py`, dodając odpowiedni  kod\n"
   ]
  },
  {
   "cell_type": "code",
   "execution_count": 11,
   "id": "9e42700e-e83a-4a2b-b4e8-164827a6994f",
   "metadata": {},
   "outputs": [
    {
     "name": "stdout",
     "output_type": "stream",
     "text": [
      "Overwriting app.py\n"
     ]
    }
   ],
   "source": [
    "%%file app.py\n",
    "from flask import Flask, request\n",
    "\n",
    "# Create a flask\n",
    "app = Flask(__name__)\n",
    "\n",
    "# Create an API end point - strona glowna\n",
    "@app.route('/')\n",
    "def main_page():\n",
    "    return \"Witaj w moim API!\"\n",
    "    \n",
    "# Create an API end point - moja strona\n",
    "@app.route('/mojastrona')\n",
    "def my_page():\n",
    "    return \"To jest moja strona!\"\n",
    "    \n",
    "# Create an API end point - strona hello\n",
    "@app.route('/hello', methods=['GET'])\n",
    "def say_hello():\n",
    "    name = request.args.get(\"name\", \"\")\n",
    "    resp = f\"Hello {name}\"\n",
    "    return resp\n",
    "\n",
    "if __name__ == '__main__':\n",
    "    app.run(host='0.0.0.0', port=5000)"
   ]
  },
  {
   "cell_type": "code",
   "execution_count": 13,
   "id": "bf41132a-43fc-48f4-ba9d-6f4264fe4d0a",
   "metadata": {},
   "outputs": [
    {
     "name": "stdout",
     "output_type": "stream",
     "text": [
      "Hello \n",
      "Hello Dominika\n"
     ]
    }
   ],
   "source": [
    "import requests\n",
    "\n",
    "res1 = requests.get(\"http://127.0.0.1:5000/hello\")\n",
    "print(res1.content.decode())\n",
    "\n",
    "res2 = requests.get(\"http://127.0.0.1:5000/hello?name=Dominika\")\n",
    "print(res2.content.decode())"
   ]
  },
  {
   "cell_type": "markdown",
   "id": "bb1f2e04-4bed-4a70-8131-b2f25f343962",
   "metadata": {},
   "source": [
    "Uruchom serwer i sprawdź działanie API:\n",
    "```python\n",
    "res1 = requests.get(\"http://127.0.0.1:5000/hello\")\n",
    "print(res1.content)  # Powinno zwrócić \"Hello!\"\n",
    "\n",
    "res2 = requests.get(\"http://127.0.0.1:5000/hello?name=Sebastian\")\n",
    "print(res2.content)  # Powinno zwrócić \"Hello Sebastian!\"\n",
    "```\n",
    "\n",
    "---"
   ]
  },
  {
   "cell_type": "markdown",
   "id": "fc1ae653-8609-49f7-a992-3ff437f96700",
   "metadata": {},
   "source": [
    "## **5️⃣ Tworzenie API z prostym modelem ML**\n",
    "Stworzymy nową podstronę `/api/v1.0/predict`, która przyjmuje dwie liczby i zwraca wynik reguły decyzyjnej:\n",
    "- Jeśli suma dwóch liczb jest większa niż 5.8, zwraca `1`.\n",
    "- W przeciwnym razie zwraca `0`.\n"
   ]
  },
  {
   "cell_type": "code",
   "execution_count": 1,
   "id": "2c66c4de-2942-4e78-993b-592f2700cebb",
   "metadata": {},
   "outputs": [
    {
     "name": "stdout",
     "output_type": "stream",
     "text": [
      "Overwriting app.py\n"
     ]
    }
   ],
   "source": [
    "%%file app.py\n",
    "\n",
    "from flask import Flask, jsonify, request\n",
    "\n",
    "app = Flask(__name__)\n",
    "\n",
    "@app.route('/')\n",
    "def home():\n",
    "    return jsonify({\"message\": \"Witaj w moim API!\"})\n",
    "\n",
    "@app.route('/mojastrona')\n",
    "def moja_strona():\n",
    "    return \"To jest moja strona!\"\n",
    "\n",
    "@app.route('/hello')\n",
    "def hello():\n",
    "    name = request.args.get('name') \n",
    "    if name:\n",
    "        return f\"Hello {name}!\"\n",
    "    else:\n",
    "        return \"Hello!\"\n",
    "\n",
    "@app.route('/api/v1.0/predict')\n",
    "def predict():\n",
    "    try:\n",
    "        num1 = float(request.args.get('num1', 0))\n",
    "        num2 = float(request.args.get('num2', 0))\n",
    "        total = num1 + num2\n",
    "\n",
    "        prediction = 1 if total > 5.8 else 0\n",
    "\n",
    "        return jsonify({\n",
    "            \"prediction\": prediction,\n",
    "            \"features\": {\n",
    "                \"num1\": num1,\n",
    "                \"num2\": num2\n",
    "            }\n",
    "        })\n",
    "\n",
    "    except Exception as e:\n",
    "        return jsonify({\"error\": str(e)}), 400\n",
    "\n",
    "@app.errorhandler(404)\n",
    "def not_found(error):\n",
    "    return jsonify({\"error\": \"Not Found\"}), 404\n",
    "\n",
    "@app.errorhandler(400)\n",
    "def bad_request(error):\n",
    "    return jsonify({\"error\": \"Bad Request\"}), 400\n",
    "    \n",
    "\n",
    "if __name__ == '__main__':\n",
    "    app.run(host='0.0.0.0', port=5000)"
   ]
  },
  {
   "cell_type": "code",
   "execution_count": 3,
   "id": "0bfede75-05a6-4f47-8c3b-12424fb19121",
   "metadata": {},
   "outputs": [
    {
     "name": "stdout",
     "output_type": "stream",
     "text": [
      "{'features': {'num1': 3.0, 'num2': 4.0}, 'prediction': 1}\n"
     ]
    }
   ],
   "source": [
    "import requests\n",
    "\n",
    "res = requests.get(\"http://127.0.0.1:5000/api/v1.0/predict?num1=3&num2=4\")\n",
    "print(res.json())"
   ]
  },
  {
   "cell_type": "markdown",
   "id": "4ef4b5a6-387e-4d2e-b4e3-a716e5c885f5",
   "metadata": {},
   "source": [
    "Sprawdź działanie API:\n",
    "```python\n",
    "res = requests.get(\"http://127.0.0.1:5000/api/v1.0/predict?num1=3&num2=4\")\n",
    "print(res.json())  # Powinno zwrócić {\"prediction\": 1, \"features\": {\"num1\": 3.0, \"num2\": 4.0}}\n",
    "```\n",
    "\n",
    "---\n",
    "\n",
    "## **Podsumowanie**\n",
    "Po wykonaniu tego ćwiczenia studenci będą umieli:\n",
    "✅ Tworzyć podstawowe API w Flasku.  \n",
    "✅ Dodawać podstrony i obsługiwać parametry URL.  \n",
    "✅ Wysyłać zapytania GET i analizować odpowiedzi.  \n",
    "✅ Automatycznie uruchamiać serwer z Jupyter Notebook.  \n",
    "✅ Implementować prosty model decyzyjny w API.  \n",
    "\n",
    "Gotowi na kolejne wyzwania? 🚀"
   ]
  },
  {
   "cell_type": "code",
   "execution_count": 21,
   "id": "2a08af6f-f126-45bd-acc6-a4f243c54ed6",
   "metadata": {},
   "outputs": [
    {
     "name": "stdout",
     "output_type": "stream",
     "text": [
      "<!doctype html>\n",
      "<html lang=en>\n",
      "<title>404 Not Found</title>\n",
      "<h1>Not Found</h1>\n",
      "<p>The requested URL was not found on the server. If you entered the URL manually please check your spelling and try again.</p>\n",
      "\n",
      "<!doctype html>\n",
      "<html lang=en>\n",
      "<title>404 Not Found</title>\n",
      "<h1>Not Found</h1>\n",
      "<p>The requested URL was not found on the server. If you entered the URL manually please check your spelling and try again.</p>\n",
      "\n"
     ]
    }
   ],
   "source": []
  },
  {
   "cell_type": "code",
   "execution_count": null,
   "id": "fcb49b60-2f1c-4167-9dbf-0fdbc77dbfca",
   "metadata": {},
   "outputs": [],
   "source": []
  }
 ],
 "metadata": {
  "kernelspec": {
   "display_name": "Python 3 (ipykernel)",
   "language": "python",
   "name": "python3"
  },
  "language_info": {
   "codemirror_mode": {
    "name": "ipython",
    "version": 3
   },
   "file_extension": ".py",
   "mimetype": "text/x-python",
   "name": "python",
   "nbconvert_exporter": "python",
   "pygments_lexer": "ipython3",
   "version": "3.11.6"
  }
 },
 "nbformat": 4,
 "nbformat_minor": 5
}
